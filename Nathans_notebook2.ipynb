{
 "cells": [
  {
   "cell_type": "code",
   "execution_count": 1,
   "metadata": {},
   "outputs": [],
   "source": [
    "import pandas as pd"
   ]
  },
  {
   "cell_type": "code",
   "execution_count": 4,
   "metadata": {},
   "outputs": [
    {
     "name": "stdout",
     "output_type": "stream",
     "text": [
      "open_switch: 175\n",
      "closed_switch: 143\n",
      "straight: 498\n"
     ]
    }
   ],
   "source": [
    "import json\n",
    "from collections import Counter\n",
    "\n",
    "# File path to the COCO annotation file\n",
    "annotation_file = r\"C:/Users/natha/OneDrive/Desktop/Applied Machine Learning/Run-Through_Switch/annotations/instances_default.json\"\n",
    "\n",
    "# Labels to count\n",
    "target_labels = {\"open_switch\", \"closed_switch\", \"straight\"}\n",
    "\n",
    "# Load the COCO annotation file\n",
    "with open(annotation_file, 'r') as f:\n",
    "    coco_data = json.load(f)\n",
    "\n",
    "# Get category mappings\n",
    "categories = {category['id']: category['name'] for category in coco_data['categories']}\n",
    "\n",
    "# Initialize a counter for the target labels\n",
    "label_counter = Counter()\n",
    "\n",
    "# Iterate over the annotations to count the labels\n",
    "for annotation in coco_data['annotations']:\n",
    "    category_id = annotation['category_id']\n",
    "    category_name = categories.get(category_id, None)\n",
    "    if category_name in target_labels:\n",
    "        label_counter[category_name] += 1\n",
    "\n",
    "# Display the counts\n",
    "for label in target_labels:\n",
    "    print(f\"{label}: {label_counter[label]}\")\n"
   ]
  }
 ],
 "metadata": {
  "kernelspec": {
   "display_name": "Python 3",
   "language": "python",
   "name": "python3"
  },
  "language_info": {
   "codemirror_mode": {
    "name": "ipython",
    "version": 3
   },
   "file_extension": ".py",
   "mimetype": "text/x-python",
   "name": "python",
   "nbconvert_exporter": "python",
   "pygments_lexer": "ipython3",
   "version": "3.13.0"
  }
 },
 "nbformat": 4,
 "nbformat_minor": 2
}
